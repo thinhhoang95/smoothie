{
 "cells": [
  {
   "cell_type": "code",
   "execution_count": 1,
   "metadata": {},
   "outputs": [],
   "source": [
    "import numpy as np \n",
    "from matplotlib import pyplot as plt\n",
    "import cv2 "
   ]
  },
  {
   "cell_type": "code",
   "execution_count": 8,
   "metadata": {},
   "outputs": [],
   "source": [
    "# In this notebook, we implemement the Gaussian Mixture Kalman Filter (GMKF) from Wills et. al. 2017\n",
    "\n",
    "class GMKF():\n",
    "    def __init__(self, x_init, std_x, y_init, std_y, dynamics_params, x_mean, y_mean, N_max = 5) -> None:\n",
    "        # mean trajectories\n",
    "        self.x_mean = x_mean\n",
    "        self.y_mean = y_mean\n",
    "        # time variable\n",
    "        self.t = 0\n",
    "        # these are also p(x_1 | y_1) or 1|1, or t|t\n",
    "        self.N = 1\n",
    "        self.wx = [1]\n",
    "        self.mu_x = [x_init]\n",
    "        self.std_x = [std_x]\n",
    "        self.P_x = [std_x**2]\n",
    "        self.wy = [1]\n",
    "        self.y = [y_init]\n",
    "        self.std_y = [std_y]\n",
    "        self.P_y = [std_y**2]\n",
    "        # dynamics params is a tuple of alpha_left, mu_left, std_left, alpha_center, mu_center, std_center, alpha_right, mu_right, std_right, std_y\n",
    "        self.dynamics_params = dynamics_params \n",
    "        self.Nx = 3 # number of mixture components of the dynamics model\n",
    "        self.N_max = N_max # maximum number of mixture components for the state\n",
    "\n",
    "    def predict(self): # p(x_{t+1} | y_{1:t})\n",
    "        # predict the state of the system at the next time step\n",
    "        # the prediction is a mixture of Gaussians\n",
    "\n",
    "        # ================== #\n",
    "        # For lateral/lane change dynamics/x #\n",
    "        # ================== #\n",
    "        # first, we compute the number of mixture components in the prediction t+1|1:t\n",
    "        N_tPlus1_t = self.N * self.Nx # N is the number of components for t|t, Nx is the number of components for t+1|t or the dynamics model\n",
    "        # then, we compute the means of each mixture component\n",
    "        \n",
    "        mu_x_pred = np.zeros(N_tPlus1_t)\n",
    "        P_x_pred = np.zeros(N_tPlus1_t)\n",
    "        w_x_pred = np.zeros(N_tPlus1_t)\n",
    "\n",
    "        for s in range(self.N): # s is the index of t|t mixture\n",
    "            for j in range(self.Nx): # j is the index of t+1|t mixture, or the dynamics model. j=0: left, j=1: center, j=2: right\n",
    "                l = self.Nx * s + j # lth mixture component of t+1|1:t\n",
    "                \n",
    "                x_tPlus1_t = (self.x_mean[self.t+1] - self.x_mean[self.t]) + self.mu_x[s] + self.dynamics_params[1 + 3*j]\n",
    "                # in dynamics_params, the variances are at index 2, 5, 8\n",
    "                P_tPlus1_t = self.P_x[s] + self.dynamics_params[2 + 3*j]**2 # the variance is the sum of the variances of the dynamics and the measurement\n",
    "                w_tPlus1_t = self.wx[s] * self.dynamics_params[0 + 3*j] # the weight is the product of the weights of the dynamics and the measurement\n",
    "\n",
    "                mu_x_pred[l] = x_tPlus1_t\n",
    "                P_x_pred[l] = P_tPlus1_t\n",
    "                w_x_pred[l] = w_tPlus1_t\n",
    "\n",
    "        # ================== #\n",
    "        # For longitudinal dynamics/y #\n",
    "        # ================== #\n",
    "        # For longitudinal component, there is just one mixture component, so it's similar to a regular Kalman Filter\n",
    "        # TODO: Implement this ================== #\n",
    "        mu_y_pred = []\n",
    "        P_y_pred = []\n",
    "        w_y_pred = []\n",
    "\n",
    "        self.t += 1\n",
    "\n",
    "        # at the end of the prediction step, we have 3x the number of mixture components for the state\n",
    "        return mu_x_pred, P_x_pred, w_x_pred, mu_y_pred, P_y_pred, w_y_pred\n",
    "\n",
    "\n"
   ]
  },
  {
   "attachments": {},
   "cell_type": "markdown",
   "metadata": {},
   "source": [
    "# Unit Test & Sanity Check for GMKF Predict Function "
   ]
  },
  {
   "attachments": {},
   "cell_type": "markdown",
   "metadata": {},
   "source": [
    "First, let's pick a sample trajectory, prior to smoothing."
   ]
  },
  {
   "cell_type": "code",
   "execution_count": 3,
   "metadata": {},
   "outputs": [
    {
     "data": {
      "text/plain": [
       "<matplotlib.legend.Legend at 0x136fe09d0>"
      ]
     },
     "execution_count": 3,
     "metadata": {},
     "output_type": "execute_result"
    },
    {
     "data": {
      "image/png": "[encoded data removed]",
      "text/plain": [
       "<Figure size 432x288 with 2 Axes>"
      ]
     },
     "metadata": {
      "needs_background": "light"
     },
     "output_type": "display_data"
    }
   ],
   "source": [
    "x_mean = np.load('x_mean.npy')\n",
    "y_mean = np.load('y_mean.npy')\n",
    "x_samp = np.load('x_sample_from_video.npy')\n",
    "y_samp = np.load('y_sample_from_video.npy')\n",
    "\n",
    "x_test = x_samp[0,:]\n",
    "y_test = y_samp[0,:]\n",
    "\n",
    "plt.subplot(1,2,1)\n",
    "plt.plot(x_test)\n",
    "# plt.plot(x_mean)\n",
    "plt.legend(['x_test', 'x_mean'])\n",
    "plt.subplot(1,2,2)\n",
    "plt.plot(y_test)\n",
    "# plt.plot(y_mean)\n",
    "plt.legend(['y_test', 'y_mean'])"
   ]
  },
  {
   "attachments": {},
   "cell_type": "markdown",
   "metadata": {},
   "source": [
    "We will smooth this particular trajectory using GMKF."
   ]
  },
  {
   "cell_type": "code",
   "execution_count": 27,
   "metadata": {},
   "outputs": [],
   "source": [
    "# Initialize the filter\n",
    "# alpha_left, mu_left, std_left, alpha_center, mu_center, std_center, alpha_right, mu_right, std_right, std_y\n",
    "filt = GMKF(x_init=x_test[0], std_x=.3, y_init=y_test[0], std_y=0.1, \n",
    "            dynamics_params=(0.05, -1.5, .1, 0.9, 0, .3, 0.05, 1.5, .1, 1.2), \n",
    "            x_mean=x_mean, y_mean=y_mean)\n",
    "\n",
    "# predict the state at the next time step\n",
    "mu_x_pred, P_x_pred, w_x_pred, mu_y_pred, P_y_pred, w_y_pred = filt.predict()"
   ]
  },
  {
   "cell_type": "code",
   "execution_count": 28,
   "metadata": {},
   "outputs": [
    {
     "data": {
      "image/png": "[encoded data removed]",
      "text/plain": [
       "<Figure size 432x288 with 1 Axes>"
      ]
     },
     "metadata": {
      "needs_background": "light"
     },
     "output_type": "display_data"
    },
    {
     "data": {
      "image/png": "[encoded data removed]",
      "text/plain": [
       "<Figure size 432x288 with 1 Axes>"
      ]
     },
     "metadata": {
      "needs_background": "light"
     },
     "output_type": "display_data"
    }
   ],
   "source": [
    "# plot the GMM of the prediction\n",
    "from scipy.stats import norm\n",
    "def gmm_pdf(mu, P, w, x):\n",
    "    pdf = 0\n",
    "    for l in range(mu.shape[0]):\n",
    "        pdf += w[l] * norm.pdf(x, mu[l], P[l])\n",
    "    return pdf\n",
    "\n",
    "def plot_gmm(mu, P, w):\n",
    "    x = np.linspace(np.min(mu) - np.max(np.sqrt(P)) * 10, np.max(mu) + np.max(np.sqrt(P)) * 10, 200)\n",
    "    plt.plot(x, gmm_pdf(mu, P, w, x))\n",
    "\n",
    "plt.figure()\n",
    "# Prior\n",
    "plot_gmm(np.array(filt.mu_x), np.array(filt.P_x), np.array(filt.wx))\n",
    "\n",
    "plt.figure()\n",
    "# Prediction\n",
    "plot_gmm(mu_x_pred, P_x_pred, w_x_pred)\n"
   ]
  },
  {
   "cell_type": "code",
   "execution_count": 30,
   "metadata": {},
   "outputs": [
    {
     "data": {
      "text/plain": [
       "array([0.05, 0.9 , 0.05])"
      ]
     },
     "execution_count": 30,
     "metadata": {},
     "output_type": "execute_result"
    }
   ],
   "source": [
    "w_x_pred"
   ]
  },
  {
   "cell_type": "code",
   "execution_count": null,
   "metadata": {},
   "outputs": [],
   "source": []
  }
 ],
 "metadata": {
  "kernelspec": {
   "display_name": "liberty",
   "language": "python",
   "name": "python3"
  },
  "language_info": {
   "codemirror_mode": {
    "name": "ipython",
    "version": 3
   },
   "file_extension": ".py",
   "mimetype": "text/x-python",
   "name": "python",
   "nbconvert_exporter": "python",
   "pygments_lexer": "ipython3",
   "version": "3.8.8"
  },
  "orig_nbformat": 4
 },
 "nbformat": 4,
 "nbformat_minor": 2
}
